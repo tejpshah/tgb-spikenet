{
 "cells": [
  {
   "cell_type": "code",
   "execution_count": null,
   "metadata": {},
   "outputs": [],
   "source": [
    "# !pip3 install py-tgb"
   ]
  },
  {
   "cell_type": "code",
   "execution_count": 22,
   "metadata": {},
   "outputs": [],
   "source": [
    "from DataLoader import get_node_classification_tgb_data\n",
    "from torch_geometric.loader import TemporalDataLoader\n",
    "from tgb.nodeproppred.dataset_pyg import PyGNodePropPredDataset"
   ]
  },
  {
   "cell_type": "code",
   "execution_count": 23,
   "metadata": {},
   "outputs": [
    {
     "name": "stdout",
     "output_type": "stream",
     "text": [
      "raw file found, skipping download\n",
      "Dataset directory is  /common/home/ac1771/.conda/envs/dhypr-lib/lib/python3.11/site-packages/tgb/datasets/tgbn_trade\n",
      "loading processed file\n"
     ]
    }
   ],
   "source": [
    "dataset = PyGNodePropPredDataset(name=\"tgbn-trade\", root=\"datasets\")\n",
    "num_classes = dataset.num_classes\n",
    "data = dataset.get_TemporalData()\n",
    "\n",
    "train_mask = dataset.train_mask\n",
    "val_mask = dataset.val_mask\n",
    "test_mask = dataset.test_mask"
   ]
  },
  {
   "cell_type": "code",
   "execution_count": 24,
   "metadata": {},
   "outputs": [],
   "source": [
    "train_data = data[train_mask]\n",
    "val_data = data[val_mask]\n",
    "test_data = data[test_mask]"
   ]
  },
  {
   "cell_type": "code",
   "execution_count": 29,
   "metadata": {},
   "outputs": [],
   "source": [
    "batch_size = 200\n",
    "train_loader = TemporalDataLoader(train_data, batch_size=batch_size)\n",
    "val_loader = TemporalDataLoader(val_data, batch_size=batch_size)\n",
    "test_loader = TemporalDataLoader(test_data, batch_size=batch_size)"
   ]
  },
  {
   "cell_type": "code",
   "execution_count": 41,
   "metadata": {},
   "outputs": [],
   "source": [
    "label_t = dataset.get_label_time()"
   ]
  },
  {
   "cell_type": "code",
   "execution_count": 43,
   "metadata": {},
   "outputs": [],
   "source": [
    "for batch in train_loader:\n",
    "    # batch = batch.to(device)\n",
    "    # optimizer.zero_grad()\n",
    "    src, dst, t, msg = batch.src, batch.dst, batch.t, batch.msg\n",
    "    query_t = batch.t[-1]\n",
    "\n",
    "    if query_t > label_t:\n",
    "        label_tuple = dataset.get_node_label(query_t)\n",
    "        label_ts, label_srcs, labels = (\n",
    "            label_tuple[0],\n",
    "            label_tuple[1],\n",
    "            label_tuple[2],\n",
    "        )\n",
    "    break"
   ]
  },
  {
   "cell_type": "code",
   "execution_count": 48,
   "metadata": {},
   "outputs": [
    {
     "data": {
      "text/plain": [
       "torch.Size([233, 255])"
      ]
     },
     "execution_count": 48,
     "metadata": {},
     "output_type": "execute_result"
    }
   ],
   "source": [
    "labels.shape"
   ]
  },
  {
   "cell_type": "code",
   "execution_count": null,
   "metadata": {},
   "outputs": [],
   "source": [
    "label_ts, label_srcs, labels = dataset.get_node_label(1999)"
   ]
  },
  {
   "cell_type": "code",
   "execution_count": null,
   "metadata": {},
   "outputs": [],
   "source": [
    "label_ts"
   ]
  },
  {
   "cell_type": "code",
   "execution_count": null,
   "metadata": {},
   "outputs": [],
   "source": [
    "labels.shape"
   ]
  },
  {
   "cell_type": "code",
   "execution_count": null,
   "metadata": {},
   "outputs": [],
   "source": [
    "labels[0].shape"
   ]
  },
  {
   "cell_type": "code",
   "execution_count": null,
   "metadata": {},
   "outputs": [],
   "source": [
    "raw_feats, _, dataset, _, _, _, _, _ = get_node_classification_tgb_data(\"tgbn-trade\")"
   ]
  },
  {
   "cell_type": "code",
   "execution_count": null,
   "metadata": {},
   "outputs": [],
   "source": [
    "raw_feats"
   ]
  },
  {
   "cell_type": "code",
   "execution_count": null,
   "metadata": {},
   "outputs": [],
   "source": [
    "from collections import defaultdict\n",
    "import numpy as np"
   ]
  },
  {
   "cell_type": "code",
   "execution_count": null,
   "metadata": {},
   "outputs": [],
   "source": [
    "def _read_graph():\n",
    "        data = dataset\n",
    "        d = defaultdict(list)\n",
    "        N = 0\n",
    "        for x, y, t in zip(data.src_node_ids, data.dst_node_ids, data.node_interact_times):\n",
    "            x, y = int(x), int(y)\n",
    "            d[t].append((x, y))\n",
    "            N = max(N, x)\n",
    "            N = max(N, y)\n",
    "        N += 1\n",
    "        edges = []\n",
    "        for time in sorted(d):\n",
    "            row, col = zip(*d[time])\n",
    "            edge_now = np.vstack([row, col])\n",
    "            edges.append(edge_now)\n",
    "        return edges, N\n",
    "edges, N = _read_graph()"
   ]
  },
  {
   "cell_type": "code",
   "execution_count": null,
   "metadata": {},
   "outputs": [],
   "source": [
    "import numpy as np\n",
    "\n",
    "# Find the index of the first non-zero value\n",
    "index = np.argmax(np.any(dataset.labels!=0, axis=1))\n",
    "\n",
    "# Get the first row with a non-zero value\n",
    "first_non_zero_row = dataset.labels[index]"
   ]
  },
  {
   "cell_type": "code",
   "execution_count": null,
   "metadata": {},
   "outputs": [],
   "source": [
    "len(dataset.labels)"
   ]
  },
  {
   "cell_type": "code",
   "execution_count": null,
   "metadata": {},
   "outputs": [],
   "source": [
    "node_raw_features, edge_raw_features, full_data, train_data, val_data, test_data, eval_metric_name, num_classes = \\\n",
    "        get_node_classification_tgb_data('tgbn-trade')"
   ]
  },
  {
   "cell_type": "code",
   "execution_count": null,
   "metadata": {},
   "outputs": [],
   "source": [
    "full_data.node_interact_times.shape"
   ]
  },
  {
   "cell_type": "code",
   "execution_count": null,
   "metadata": {},
   "outputs": [],
   "source": [
    "import numpy as np\n",
    "concatenated_array = np.column_stack((full_data.node_interact_times, full_data.src_node_ids, full_data.dst_node_ids))"
   ]
  },
  {
   "cell_type": "code",
   "execution_count": null,
   "metadata": {},
   "outputs": [],
   "source": [
    "concatenated_array.shape"
   ]
  },
  {
   "cell_type": "markdown",
   "metadata": {},
   "source": [
    "concatenated_array.shape"
   ]
  },
  {
   "cell_type": "code",
   "execution_count": null,
   "metadata": {},
   "outputs": [],
   "source": [
    "full_data.src_node_ids.shape"
   ]
  },
  {
   "cell_type": "code",
   "execution_count": null,
   "metadata": {},
   "outputs": [],
   "source": [
    "full_data.dst_node_ids"
   ]
  },
  {
   "cell_type": "code",
   "execution_count": null,
   "metadata": {},
   "outputs": [],
   "source": [
    "full_data.labels.shape"
   ]
  },
  {
   "cell_type": "code",
   "execution_count": null,
   "metadata": {},
   "outputs": [],
   "source": [
    "edge_raw_features.shape"
   ]
  },
  {
   "cell_type": "code",
   "execution_count": null,
   "metadata": {},
   "outputs": [],
   "source": [
    "print(train_data.src_node_ids.shape)\n",
    "print(train_data.dst_node_ids.shape)\n",
    "print(train_data.interact_types.shape)"
   ]
  },
  {
   "cell_type": "code",
   "execution_count": null,
   "metadata": {},
   "outputs": [],
   "source": [
    "from tgb.nodeproppred.dataset import NodePropPredDataset\n",
    "\n",
    "name = \"tgbn-trade\"\n",
    "\n",
    "dataset = NodePropPredDataset(name=name, root=\"data\", preprocess=True)\n",
    "\n",
    "data = dataset.full_data\n",
    "\n",
    "type(data['sources']) #all source nodes of edges"
   ]
  },
  {
   "cell_type": "code",
   "execution_count": null,
   "metadata": {},
   "outputs": [],
   "source": [
    "import tgb\n",
    "tgb.nodeproppred.dataset.PROJ_DIR"
   ]
  },
  {
   "cell_type": "code",
   "execution_count": null,
   "metadata": {},
   "outputs": [],
   "source": [
    "import numpy as np\n",
    "from sklearn.preprocessing import MinMaxScaler\n",
    "\n",
    "# Your data\n",
    "y = np.array([5, 23, 77, 38, 64, 12, 8, 44, 25, 324, 36, 24, 265,\n",
    "       271, 279, 56, 33, 52, 161, 51, 83, 570, 10, 10, 23, 59,\n",
    "       102, 193, 48, 6, 11, 3, 1, 54, 1, 4, 167, 78, 17,\n",
    "       30, 73, 31, 5, 63, 2, 28, 96, 39, 65, 17, 10, 16,\n",
    "       61, 18, 105, 450, 29, 26, 5, 8, 2, 13, 14, 1, 7,\n",
    "       3, 5, 1, 15, 70, 54, 8, 6, 1, 6, 3, 5, 9,\n",
    "       1, 3, 6, 10, 1, 6, 30, 17, 17, 15, 32, 16, 0,\n",
    "       13, 2, 10, 1, 26, 2, 20, 28, 6, 14, 14, 55, 2,\n",
    "       0, 123, 17, 56, 3, 13, 5, 51, 12, 3, 25, 1, 4,\n",
    "       9, 0, 11, 2, 3, 3, 0, 6, 5, 0, 1, 1, 0,\n",
    "       0, 0, 0, 1, 2, 1, 2, 0, 0, 6, 6, 19, 1,\n",
    "       0, 0, 5, 0, 2, 0, 2, 0, 0, 1, 2, 0, 0,\n",
    "       2, 4, 11, 0, 1, 0, 0, 3, 2, 0, 0, 48, 1,\n",
    "       13, 0, 5, 12, 5, 0, 3, 0, 6, 0, 7, 3, 1,\n",
    "       0, 0, 0, 1, 0, 3, 0, 1, 0, 0, 0, 1, 0,\n",
    "       0, 0, 0, 0, 0, 0, 5, 314, 0, 0, 0, 0, 19,\n",
    "       0, 0, 0, 8, 0, 0, 0, 0, 165, 9, 0, 0, 32,\n",
    "       16, 12, 18, 7, 22, 21, 7, 17, 8, 1, 1, 2, 6,\n",
    "       16, 3, 3, 0, 0, 0, 35, 6, 12, 0, 0, 0, 79,\n",
    "       0, 1, 0, 11, 2, 0, 0, 0])\n",
    "\n",
    "# Start with one bin and increase until all bins have at least 2 values\n",
    "scaler = MinMaxScaler(feature_range=(0, 10))\n",
    "scaled_array = scaler.fit_transform(labels[0].reshape(-1, 1)).round(decimals=1)\n",
    "\n",
    "# If you want to flatten the array back to its original shape\n",
    "scaled_array = scaled_array.flatten()"
   ]
  },
  {
   "cell_type": "code",
   "execution_count": null,
   "metadata": {},
   "outputs": [],
   "source": [
    "scaled_array"
   ]
  },
  {
   "cell_type": "code",
   "execution_count": null,
   "metadata": {},
   "outputs": [],
   "source": []
  }
 ],
 "metadata": {
  "kernelspec": {
   "display_name": "Python 3 (ipykernel)",
   "language": "python",
   "name": "python3"
  },
  "language_info": {
   "codemirror_mode": {
    "name": "ipython",
    "version": 3
   },
   "file_extension": ".py",
   "mimetype": "text/x-python",
   "name": "python",
   "nbconvert_exporter": "python",
   "pygments_lexer": "ipython3",
   "version": "3.11.3"
  }
 },
 "nbformat": 4,
 "nbformat_minor": 2
}
